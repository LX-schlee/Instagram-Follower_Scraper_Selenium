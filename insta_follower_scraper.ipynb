{
 "cells": [
  {
   "cell_type": "code",
   "execution_count": 2,
   "metadata": {},
   "outputs": [],
   "source": [
    "import os\n",
    "import csv\n",
    "import time\n",
    "import wget\n",
    "import xlsxwriter\n",
    "import pandas as pd\n",
    "from selenium import webdriver\n",
    "from selenium.common.exceptions import NoSuchElementException\n",
    "from selenium.webdriver import ActionChains\n",
    "from selenium.webdriver.common.by import By\n",
    "from termcolor import colored\n",
    "from selenium.webdriver.common.keys import Keys\n",
    "from selenium.webdriver.support.wait import WebDriverWait\n",
    "from selenium.webdriver.support import expected_conditions as EC"
   ]
  },
  {
   "cell_type": "code",
   "execution_count": 1,
   "metadata": {},
   "outputs": [],
   "source": [
    "from selenium import webdriver"
   ]
  },
  {
   "cell_type": "code",
   "execution_count": 2,
   "metadata": {},
   "outputs": [],
   "source": [
    "driver=webdriver.Chrome(executable_path='C:\\webdrivers\\chromedriver.exe')"
   ]
  },
  {
   "cell_type": "code",
   "execution_count": 8,
   "metadata": {},
   "outputs": [
    {
     "name": "stdout",
     "output_type": "stream",
     "text": [
      "Which profile do you want to extract information from?bellos__animales\n"
     ]
    }
   ],
   "source": [
    "driver = webdriver.Chrome(executable_path='C:\\webdrivers\\chromedriver.exe')\n",
    "\n",
    "# Open Instagram Website\n",
    "driver.get('https://www.instagram.com/')\n",
    "driver.maximize_window()\n",
    "\n",
    "# accept cookies\n",
    "accept_cookies=driver.find_element_by_xpath('//button[text()=\"Accept\"]')\n",
    "accept_cookies.click()\n",
    "time.sleep(1)\n",
    "\n",
    "# Login\n",
    "username_input = driver.find_element_by_name('username') # username\n",
    "password_input = driver.find_element_by_name('password') # password\n",
    "\n",
    "username_input.send_keys('testuseraccount24') # enter username\n",
    "password_input.send_keys('testuser') # enter password\n",
    "\n",
    "login=driver.find_element_by_xpath('//div[text()=\"Log In\"]')\n",
    "login.click()\n",
    "time.sleep(3)\n",
    "\n",
    "# Cookies\n",
    "try:\n",
    "    not_now_1=driver.find_element_by_xpath('//button[text()=\"Not Now\"]')\n",
    "    not_now_1.click()\n",
    "    time.sleep(2)\n",
    "except:\n",
    "    pass\n",
    "\n",
    "# Notifications\n",
    "try:\n",
    "    not_now_2=driver.find_element_by_xpath('//button[text()=\"Not Now\"]')\n",
    "    not_now_2.click()\n",
    "    time.sleep(2)\n",
    "except:\n",
    "    pass\n",
    "\n",
    "# Input after Login\n",
    "profile_name = input('Which profile do you want to extract information from?')\n",
    "time.sleep(1)\n",
    "\n",
    "# Search\n",
    "search1 = driver.find_element_by_xpath('//span[text()=\"Search\"]')\n",
    "search1.click()\n",
    "time.sleep(1)\n",
    "search2 = driver.find_element_by_xpath('//input[@placeholder=\"Search\"]')\n",
    "search2.send_keys(profile_name)\n",
    "\n",
    "# Click Enter 2 times\n",
    "count = 0\n",
    "while count < 3:\n",
    "    search2.send_keys(Keys.ENTER)\n",
    "    count += 1  # count = count + 1\n",
    "    time.sleep(1)\n",
    "\n",
    "time.sleep(1)\n",
    "\n",
    "posts = driver.find_element_by_xpath('//ul[@class=\"k9GMp \"]/li[1]/span/span')\n",
    "followers = driver.find_element_by_xpath('//ul[@class=\"k9GMp \"]/li[2]/a/span')\n",
    "following = driver.find_element_by_xpath('//ul[@class=\"k9GMp \"]/li[3]/a/span')\n",
    "profile_description_1=driver.find_element_by_xpath('//div[@class=\"-vDIg\"]/h1')\n",
    "\n",
    "followers.click()\n",
    "time.sleep(1)\n",
    "\n",
    "list_of_followers= driver.find_elements_by_xpath('//div[@class=\"PZuss\"]/li')\n",
    "followers_list = len(list_of_followers) # 12 zu Beginn\n",
    "followers_count = int(followers.text) #356 gesamt\n",
    "\n",
    "while True:\n",
    "        driver.execute_script('''\n",
    "                var fDialog = document.querySelector('div[role=\"dialog\"] .isgrP');\n",
    "                fDialog.scrollTop = fDialog.scrollHeight\n",
    "            ''')\n",
    "        list_of_followers= driver.find_elements_by_xpath('//div[@class=\"PZuss\"]/li/div/div/div[2]/div/span/a')\n",
    "        followers_list= len(list_of_followers)\n",
    "        if followers_list == followers_count:\n",
    "            break\n",
    "            \n",
    "# Für Follower\n",
    "new_followers_list=[]\n",
    "for i in list_of_followers:\n",
    "    new_followers_list.append(i.text)\n",
    "    \n",
    "df1= pd.DataFrame({'Profile_Name':[profile_name], 'Posts': [posts.text], 'Followers': [followers.text], 'Following': [following.text], 'Profile_Header': [profile_description_1.text]})\n",
    "df2= pd.DataFrame({'Followers':new_followers_list})\n",
    "dataframes={'Overview': df1, 'FollowersList': df2}   \n",
    "\n",
    "#das ist korrekt!\n",
    "writer= pd.ExcelWriter('test_script.xlsx', engine='xlsxwriter')\n",
    "\n",
    "for sheet_name in dataframes.keys():\n",
    "    dataframes[sheet_name].to_excel(writer, sheet_name=sheet_name, index=False)\n",
    "\n",
    "writer.save()"
   ]
  },
  {
   "cell_type": "code",
   "execution_count": null,
   "metadata": {},
   "outputs": [],
   "source": []
  }
 ],
 "metadata": {
  "kernelspec": {
   "display_name": "Python 3",
   "language": "python",
   "name": "python3"
  },
  "language_info": {
   "codemirror_mode": {
    "name": "ipython",
    "version": 3
   },
   "file_extension": ".py",
   "mimetype": "text/x-python",
   "name": "python",
   "nbconvert_exporter": "python",
   "pygments_lexer": "ipython3",
   "version": "3.9.2"
  }
 },
 "nbformat": 4,
 "nbformat_minor": 4
}
